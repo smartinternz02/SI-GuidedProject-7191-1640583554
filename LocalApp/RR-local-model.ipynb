{
 "cells": [
  {
   "cell_type": "code",
   "execution_count": 1,
   "id": "fe2bd106",
   "metadata": {},
   "outputs": [],
   "source": [
    "from tensorflow.keras.preprocessing.image import ImageDataGenerator"
   ]
  },
  {
   "cell_type": "code",
   "execution_count": 2,
   "id": "6e019bdc",
   "metadata": {},
   "outputs": [],
   "source": [
    "import numpy as np"
   ]
  },
  {
   "cell_type": "code",
   "execution_count": 3,
   "id": "5dda5b29",
   "metadata": {},
   "outputs": [],
   "source": [
    "from tensorflow.keras.models import Sequential\n",
    "from tensorflow.keras.layers import Dense\n",
    "from tensorflow.keras.layers import Flatten\n",
    "from tensorflow.keras.layers import Conv2D\n",
    "from tensorflow.keras.layers import MaxPooling2D\n",
    "from tensorflow.keras.layers import Dropout\n",
    "from tensorflow.keras.models import load_model"
   ]
  },
  {
   "cell_type": "code",
   "execution_count": 4,
   "id": "e135aa33",
   "metadata": {},
   "outputs": [],
   "source": [
    "train_datagen=ImageDataGenerator(rescale=1./255,shear_range=0.2,zoom_range=0.2,horizontal_flip=True)"
   ]
  },
  {
   "cell_type": "code",
   "execution_count": 5,
   "id": "015aed1c",
   "metadata": {},
   "outputs": [
    {
     "name": "stdout",
     "output_type": "stream",
     "text": [
      "Found 2418 images belonging to 3 classes.\n"
     ]
    }
   ],
   "source": [
    "x_train=train_datagen.flow_from_directory(directory=r'C:\\Users\\ADMIN\\Downloads\\dataset\\dataset\\training_set',target_size=(64,64),batch_size=32,class_mode='categorical')"
   ]
  },
  {
   "cell_type": "code",
   "execution_count": 6,
   "id": "a41a55f4",
   "metadata": {},
   "outputs": [],
   "source": [
    "test_datagen=ImageDataGenerator(rescale=1./255)"
   ]
  },
  {
   "cell_type": "code",
   "execution_count": 7,
   "id": "5f9d6e97",
   "metadata": {},
   "outputs": [
    {
     "name": "stdout",
     "output_type": "stream",
     "text": [
      "Found 600 images belonging to 3 classes.\n"
     ]
    }
   ],
   "source": [
    "x_test=test_datagen.flow_from_directory(directory=r'C:\\Users\\ADMIN\\Downloads\\dataset\\dataset\\test_set',target_size=(64,64),batch_size=32,class_mode='categorical')"
   ]
  },
  {
   "cell_type": "code",
   "execution_count": 8,
   "id": "4885addc",
   "metadata": {},
   "outputs": [
    {
     "name": "stdout",
     "output_type": "stream",
     "text": [
      "{'french_fries': 0, 'pizza': 1, 'samosa': 2}\n"
     ]
    }
   ],
   "source": [
    "print(x_train.class_indices)"
   ]
  },
  {
   "cell_type": "code",
   "execution_count": 9,
   "id": "09a78b97",
   "metadata": {},
   "outputs": [],
   "source": [
    "from collections import Counter as c"
   ]
  },
  {
   "cell_type": "code",
   "execution_count": 10,
   "id": "4e2c443f",
   "metadata": {},
   "outputs": [
    {
     "data": {
      "text/plain": [
       "Counter({0: 804, 1: 804, 2: 810})"
      ]
     },
     "execution_count": 10,
     "metadata": {},
     "output_type": "execute_result"
    }
   ],
   "source": [
    "c(x_train.labels)"
   ]
  },
  {
   "cell_type": "code",
   "execution_count": 11,
   "id": "e9c1881f",
   "metadata": {},
   "outputs": [],
   "source": [
    "model=Sequential()"
   ]
  },
  {
   "cell_type": "code",
   "execution_count": 12,
   "id": "33e4d913",
   "metadata": {},
   "outputs": [],
   "source": [
    "model.add(Conv2D(32,(3,3),input_shape=(64,64,3),activation='relu'))"
   ]
  },
  {
   "cell_type": "code",
   "execution_count": 13,
   "id": "2ca2c03f",
   "metadata": {},
   "outputs": [],
   "source": [
    "model.add(MaxPooling2D(pool_size=(2,2)))"
   ]
  },
  {
   "cell_type": "code",
   "execution_count": 14,
   "id": "66f5c080",
   "metadata": {},
   "outputs": [],
   "source": [
    "model.add(Conv2D(32,(3,3),activation='relu'))"
   ]
  },
  {
   "cell_type": "code",
   "execution_count": 15,
   "id": "9e72b11e",
   "metadata": {},
   "outputs": [],
   "source": [
    "model.add(MaxPooling2D(pool_size=(2,2)))"
   ]
  },
  {
   "cell_type": "code",
   "execution_count": 16,
   "id": "ec71e0c7",
   "metadata": {},
   "outputs": [],
   "source": [
    "model.add(Dropout(0.2))"
   ]
  },
  {
   "cell_type": "code",
   "execution_count": 17,
   "id": "8a315ebe",
   "metadata": {},
   "outputs": [],
   "source": [
    "model.add(Flatten())"
   ]
  },
  {
   "cell_type": "code",
   "execution_count": 18,
   "id": "8bc18d99",
   "metadata": {},
   "outputs": [],
   "source": [
    "model.add(Dense(units=32,activation='relu'))"
   ]
  },
  {
   "cell_type": "code",
   "execution_count": 19,
   "id": "b9560c0d",
   "metadata": {},
   "outputs": [],
   "source": [
    "model.add(Dense(units=3,activation='softmax'))"
   ]
  },
  {
   "cell_type": "code",
   "execution_count": 20,
   "id": "6a87101b",
   "metadata": {},
   "outputs": [
    {
     "name": "stdout",
     "output_type": "stream",
     "text": [
      "Model: \"sequential\"\n",
      "_________________________________________________________________\n",
      " Layer (type)                Output Shape              Param #   \n",
      "=================================================================\n",
      " conv2d (Conv2D)             (None, 62, 62, 32)        896       \n",
      "                                                                 \n",
      " max_pooling2d (MaxPooling2D  (None, 31, 31, 32)       0         \n",
      " )                                                               \n",
      "                                                                 \n",
      " conv2d_1 (Conv2D)           (None, 29, 29, 32)        9248      \n",
      "                                                                 \n",
      " max_pooling2d_1 (MaxPooling  (None, 14, 14, 32)       0         \n",
      " 2D)                                                             \n",
      "                                                                 \n",
      " dropout (Dropout)           (None, 14, 14, 32)        0         \n",
      "                                                                 \n",
      " flatten (Flatten)           (None, 6272)              0         \n",
      "                                                                 \n",
      " dense (Dense)               (None, 32)                200736    \n",
      "                                                                 \n",
      " dense_1 (Dense)             (None, 3)                 99        \n",
      "                                                                 \n",
      "=================================================================\n",
      "Total params: 210,979\n",
      "Trainable params: 210,979\n",
      "Non-trainable params: 0\n",
      "_________________________________________________________________\n"
     ]
    }
   ],
   "source": [
    "model.summary()"
   ]
  },
  {
   "cell_type": "code",
   "execution_count": 21,
   "id": "4288407e",
   "metadata": {},
   "outputs": [],
   "source": [
    "model.compile(optimizer='adam',loss='categorical_crossentropy',metrics=['accuracy'])"
   ]
  },
  {
   "cell_type": "code",
   "execution_count": 22,
   "id": "3c33c6e2",
   "metadata": {},
   "outputs": [
    {
     "name": "stdout",
     "output_type": "stream",
     "text": [
      "76 19\n"
     ]
    }
   ],
   "source": [
    "print(len(x_train),len(x_test))"
   ]
  },
  {
   "cell_type": "code",
   "execution_count": 23,
   "id": "6d3a7fad",
   "metadata": {},
   "outputs": [
    {
     "name": "stdout",
     "output_type": "stream",
     "text": [
      "Epoch 1/80\n",
      "76/76 [==============================] - 126s 2s/step - loss: 1.0833 - accuracy: 0.3846 - val_loss: 0.9867 - val_accuracy: 0.4600\n",
      "Epoch 2/80\n",
      "76/76 [==============================] - 21s 277ms/step - loss: 0.9412 - accuracy: 0.5310 - val_loss: 0.8612 - val_accuracy: 0.5967\n",
      "Epoch 3/80\n",
      "76/76 [==============================] - 24s 311ms/step - loss: 0.9058 - accuracy: 0.5674 - val_loss: 0.8024 - val_accuracy: 0.6417\n",
      "Epoch 4/80\n",
      "76/76 [==============================] - 24s 318ms/step - loss: 0.8208 - accuracy: 0.6208 - val_loss: 0.7979 - val_accuracy: 0.6333\n",
      "Epoch 5/80\n",
      "76/76 [==============================] - 25s 331ms/step - loss: 0.8011 - accuracy: 0.6270 - val_loss: 1.0466 - val_accuracy: 0.5350\n",
      "Epoch 6/80\n",
      "76/76 [==============================] - 27s 356ms/step - loss: 0.7671 - accuracy: 0.6489 - val_loss: 0.7460 - val_accuracy: 0.6850\n",
      "Epoch 7/80\n",
      "76/76 [==============================] - 27s 358ms/step - loss: 0.7021 - accuracy: 0.6902 - val_loss: 0.8082 - val_accuracy: 0.6533\n",
      "Epoch 8/80\n",
      "76/76 [==============================] - 28s 364ms/step - loss: 0.6743 - accuracy: 0.7117 - val_loss: 0.6101 - val_accuracy: 0.7500\n",
      "Epoch 9/80\n",
      "76/76 [==============================] - 28s 369ms/step - loss: 0.6659 - accuracy: 0.7163 - val_loss: 0.6577 - val_accuracy: 0.7417\n",
      "Epoch 10/80\n",
      "76/76 [==============================] - 28s 363ms/step - loss: 0.6774 - accuracy: 0.7080 - val_loss: 0.6866 - val_accuracy: 0.7150\n",
      "Epoch 11/80\n",
      "76/76 [==============================] - 28s 366ms/step - loss: 0.6035 - accuracy: 0.7552 - val_loss: 0.5703 - val_accuracy: 0.7583\n",
      "Epoch 12/80\n",
      "76/76 [==============================] - 29s 377ms/step - loss: 0.5832 - accuracy: 0.7572 - val_loss: 0.5584 - val_accuracy: 0.7550\n",
      "Epoch 13/80\n",
      "76/76 [==============================] - 29s 379ms/step - loss: 0.5789 - accuracy: 0.7473 - val_loss: 0.5667 - val_accuracy: 0.7717\n",
      "Epoch 14/80\n",
      "76/76 [==============================] - 28s 373ms/step - loss: 0.5503 - accuracy: 0.7701 - val_loss: 0.8314 - val_accuracy: 0.6883\n",
      "Epoch 15/80\n",
      "76/76 [==============================] - 29s 383ms/step - loss: 0.5464 - accuracy: 0.7771 - val_loss: 0.5077 - val_accuracy: 0.7983\n",
      "Epoch 16/80\n",
      "76/76 [==============================] - 29s 380ms/step - loss: 0.5335 - accuracy: 0.7870 - val_loss: 0.5946 - val_accuracy: 0.7700\n",
      "Epoch 17/80\n",
      "76/76 [==============================] - 29s 379ms/step - loss: 0.5111 - accuracy: 0.7982 - val_loss: 0.4891 - val_accuracy: 0.8050\n",
      "Epoch 18/80\n",
      "76/76 [==============================] - 29s 378ms/step - loss: 0.4973 - accuracy: 0.8031 - val_loss: 0.6888 - val_accuracy: 0.7183\n",
      "Epoch 19/80\n",
      "76/76 [==============================] - 29s 378ms/step - loss: 0.4643 - accuracy: 0.8164 - val_loss: 0.5387 - val_accuracy: 0.7817\n",
      "Epoch 20/80\n",
      "76/76 [==============================] - 28s 367ms/step - loss: 0.4852 - accuracy: 0.8040 - val_loss: 0.6260 - val_accuracy: 0.7650\n",
      "Epoch 21/80\n",
      "76/76 [==============================] - 29s 377ms/step - loss: 0.4536 - accuracy: 0.8085 - val_loss: 0.5239 - val_accuracy: 0.8067\n",
      "Epoch 22/80\n",
      "76/76 [==============================] - 29s 376ms/step - loss: 0.4533 - accuracy: 0.8193 - val_loss: 0.5257 - val_accuracy: 0.7917\n",
      "Epoch 23/80\n",
      "76/76 [==============================] - 30s 389ms/step - loss: 0.4247 - accuracy: 0.8371 - val_loss: 0.4939 - val_accuracy: 0.8217\n",
      "Epoch 24/80\n",
      "76/76 [==============================] - 28s 367ms/step - loss: 0.4229 - accuracy: 0.8329 - val_loss: 0.4945 - val_accuracy: 0.8233\n",
      "Epoch 25/80\n",
      "76/76 [==============================] - 30s 391ms/step - loss: 0.4502 - accuracy: 0.8193 - val_loss: 0.4812 - val_accuracy: 0.8117\n",
      "Epoch 26/80\n",
      "76/76 [==============================] - 29s 379ms/step - loss: 0.4323 - accuracy: 0.8284 - val_loss: 0.5074 - val_accuracy: 0.7950\n",
      "Epoch 27/80\n",
      "76/76 [==============================] - 28s 373ms/step - loss: 0.4336 - accuracy: 0.8321 - val_loss: 0.5298 - val_accuracy: 0.8117\n",
      "Epoch 28/80\n",
      "76/76 [==============================] - 30s 393ms/step - loss: 0.4002 - accuracy: 0.8404 - val_loss: 0.5973 - val_accuracy: 0.7900\n",
      "Epoch 29/80\n",
      "76/76 [==============================] - 29s 383ms/step - loss: 0.3840 - accuracy: 0.8470 - val_loss: 0.5749 - val_accuracy: 0.7983\n",
      "Epoch 30/80\n",
      "76/76 [==============================] - 29s 381ms/step - loss: 0.3596 - accuracy: 0.8581 - val_loss: 0.4631 - val_accuracy: 0.8333\n",
      "Epoch 31/80\n",
      "76/76 [==============================] - 30s 390ms/step - loss: 0.3653 - accuracy: 0.8490 - val_loss: 0.5473 - val_accuracy: 0.7983\n",
      "Epoch 32/80\n",
      "76/76 [==============================] - 29s 384ms/step - loss: 0.3470 - accuracy: 0.8668 - val_loss: 0.4656 - val_accuracy: 0.8317\n",
      "Epoch 33/80\n",
      "76/76 [==============================] - 29s 379ms/step - loss: 0.3436 - accuracy: 0.8581 - val_loss: 0.5445 - val_accuracy: 0.8183\n",
      "Epoch 34/80\n",
      "76/76 [==============================] - 29s 378ms/step - loss: 0.3321 - accuracy: 0.8714 - val_loss: 0.6287 - val_accuracy: 0.7967\n",
      "Epoch 35/80\n",
      "76/76 [==============================] - 30s 391ms/step - loss: 0.3522 - accuracy: 0.8602 - val_loss: 0.5215 - val_accuracy: 0.8133\n",
      "Epoch 36/80\n",
      "76/76 [==============================] - 29s 381ms/step - loss: 0.3374 - accuracy: 0.8615 - val_loss: 0.5856 - val_accuracy: 0.8100\n",
      "Epoch 37/80\n",
      "76/76 [==============================] - 30s 389ms/step - loss: 0.3156 - accuracy: 0.8755 - val_loss: 0.5034 - val_accuracy: 0.8283\n",
      "Epoch 38/80\n",
      "76/76 [==============================] - 28s 375ms/step - loss: 0.3234 - accuracy: 0.8668 - val_loss: 0.6640 - val_accuracy: 0.7900\n",
      "Epoch 39/80\n",
      "76/76 [==============================] - 29s 383ms/step - loss: 0.3385 - accuracy: 0.8689 - val_loss: 0.4804 - val_accuracy: 0.8500\n",
      "Epoch 40/80\n",
      "76/76 [==============================] - 30s 393ms/step - loss: 0.2817 - accuracy: 0.8888 - val_loss: 0.5415 - val_accuracy: 0.8217\n",
      "Epoch 41/80\n",
      "76/76 [==============================] - 30s 391ms/step - loss: 0.3098 - accuracy: 0.8755 - val_loss: 0.5107 - val_accuracy: 0.8467\n",
      "Epoch 42/80\n",
      "76/76 [==============================] - 29s 383ms/step - loss: 0.2903 - accuracy: 0.8830 - val_loss: 0.8423 - val_accuracy: 0.7367\n",
      "Epoch 43/80\n",
      "76/76 [==============================] - 30s 391ms/step - loss: 0.2854 - accuracy: 0.8867 - val_loss: 0.5398 - val_accuracy: 0.8283\n",
      "Epoch 44/80\n",
      "76/76 [==============================] - 29s 390ms/step - loss: 0.3215 - accuracy: 0.8697 - val_loss: 0.6000 - val_accuracy: 0.7850\n",
      "Epoch 45/80\n",
      "76/76 [==============================] - 29s 391ms/step - loss: 0.2649 - accuracy: 0.8954 - val_loss: 0.6057 - val_accuracy: 0.8083\n",
      "Epoch 46/80\n",
      "76/76 [==============================] - 29s 379ms/step - loss: 0.2661 - accuracy: 0.8978 - val_loss: 0.6584 - val_accuracy: 0.8100\n",
      "Epoch 47/80\n",
      "76/76 [==============================] - 29s 378ms/step - loss: 0.2924 - accuracy: 0.8788 - val_loss: 0.6385 - val_accuracy: 0.8133\n",
      "Epoch 48/80\n",
      "76/76 [==============================] - 30s 394ms/step - loss: 0.2715 - accuracy: 0.8912 - val_loss: 0.5683 - val_accuracy: 0.8383\n",
      "Epoch 49/80\n",
      "76/76 [==============================] - 31s 413ms/step - loss: 0.2496 - accuracy: 0.9012 - val_loss: 0.6341 - val_accuracy: 0.8250\n",
      "Epoch 50/80\n",
      "76/76 [==============================] - 30s 395ms/step - loss: 0.2927 - accuracy: 0.8830 - val_loss: 0.5391 - val_accuracy: 0.8250\n",
      "Epoch 51/80\n",
      "76/76 [==============================] - 29s 383ms/step - loss: 0.2802 - accuracy: 0.8883 - val_loss: 0.7675 - val_accuracy: 0.7750\n",
      "Epoch 52/80\n",
      "76/76 [==============================] - 29s 384ms/step - loss: 0.2439 - accuracy: 0.9094 - val_loss: 0.5515 - val_accuracy: 0.8283\n",
      "Epoch 53/80\n",
      "76/76 [==============================] - 29s 382ms/step - loss: 0.2545 - accuracy: 0.9020 - val_loss: 0.5134 - val_accuracy: 0.8300\n",
      "Epoch 54/80\n",
      "76/76 [==============================] - 30s 392ms/step - loss: 0.2425 - accuracy: 0.9090 - val_loss: 0.4941 - val_accuracy: 0.8500\n",
      "Epoch 55/80\n",
      "76/76 [==============================] - 29s 383ms/step - loss: 0.2485 - accuracy: 0.9086 - val_loss: 0.5487 - val_accuracy: 0.8383\n",
      "Epoch 56/80\n",
      "76/76 [==============================] - 30s 390ms/step - loss: 0.2455 - accuracy: 0.9065 - val_loss: 0.6207 - val_accuracy: 0.8100\n",
      "Epoch 57/80\n",
      "76/76 [==============================] - 29s 387ms/step - loss: 0.2434 - accuracy: 0.9086 - val_loss: 0.4947 - val_accuracy: 0.8417\n",
      "Epoch 58/80\n",
      "76/76 [==============================] - 30s 395ms/step - loss: 0.2247 - accuracy: 0.9148 - val_loss: 0.5843 - val_accuracy: 0.8317\n",
      "Epoch 59/80\n",
      "76/76 [==============================] - 29s 384ms/step - loss: 0.2244 - accuracy: 0.9107 - val_loss: 0.6706 - val_accuracy: 0.8083\n",
      "Epoch 60/80\n",
      "76/76 [==============================] - 29s 383ms/step - loss: 0.2048 - accuracy: 0.9235 - val_loss: 0.4818 - val_accuracy: 0.8533\n",
      "Epoch 61/80\n",
      "76/76 [==============================] - 29s 390ms/step - loss: 0.2660 - accuracy: 0.9007 - val_loss: 0.5091 - val_accuracy: 0.8450\n",
      "Epoch 62/80\n",
      "76/76 [==============================] - 29s 377ms/step - loss: 0.2056 - accuracy: 0.9194 - val_loss: 0.5996 - val_accuracy: 0.8433\n",
      "Epoch 63/80\n",
      "76/76 [==============================] - 29s 389ms/step - loss: 0.1946 - accuracy: 0.9309 - val_loss: 0.6011 - val_accuracy: 0.8483\n",
      "Epoch 64/80\n",
      "76/76 [==============================] - 30s 393ms/step - loss: 0.2065 - accuracy: 0.9231 - val_loss: 0.4958 - val_accuracy: 0.8400\n",
      "Epoch 65/80\n",
      "76/76 [==============================] - 28s 373ms/step - loss: 0.2084 - accuracy: 0.9218 - val_loss: 0.4991 - val_accuracy: 0.8467\n",
      "Epoch 66/80\n",
      "76/76 [==============================] - 29s 381ms/step - loss: 0.1837 - accuracy: 0.9351 - val_loss: 0.5764 - val_accuracy: 0.8217\n",
      "Epoch 67/80\n",
      "76/76 [==============================] - 30s 389ms/step - loss: 0.1787 - accuracy: 0.9293 - val_loss: 0.6360 - val_accuracy: 0.8300\n",
      "Epoch 68/80\n",
      "76/76 [==============================] - 29s 382ms/step - loss: 0.1805 - accuracy: 0.9342 - val_loss: 0.6937 - val_accuracy: 0.8167\n",
      "Epoch 69/80\n",
      "76/76 [==============================] - 31s 404ms/step - loss: 0.1979 - accuracy: 0.9235 - val_loss: 0.6422 - val_accuracy: 0.8317\n",
      "Epoch 70/80\n",
      "76/76 [==============================] - 30s 396ms/step - loss: 0.1866 - accuracy: 0.9326 - val_loss: 0.6233 - val_accuracy: 0.8400\n",
      "Epoch 71/80\n",
      "76/76 [==============================] - 28s 376ms/step - loss: 0.1895 - accuracy: 0.9318 - val_loss: 0.7171 - val_accuracy: 0.8183\n",
      "Epoch 72/80\n",
      "76/76 [==============================] - 29s 389ms/step - loss: 0.2041 - accuracy: 0.9198 - val_loss: 0.7127 - val_accuracy: 0.8117\n",
      "Epoch 73/80\n",
      "76/76 [==============================] - 30s 399ms/step - loss: 0.1980 - accuracy: 0.9305 - val_loss: 0.5858 - val_accuracy: 0.8367\n",
      "Epoch 74/80\n",
      "76/76 [==============================] - 29s 382ms/step - loss: 0.1506 - accuracy: 0.9438 - val_loss: 0.6899 - val_accuracy: 0.8267\n",
      "Epoch 75/80\n",
      "76/76 [==============================] - 29s 385ms/step - loss: 0.1668 - accuracy: 0.9301 - val_loss: 0.6595 - val_accuracy: 0.8167\n",
      "Epoch 76/80\n",
      "76/76 [==============================] - 29s 389ms/step - loss: 0.1752 - accuracy: 0.9338 - val_loss: 0.6720 - val_accuracy: 0.8367\n",
      "Epoch 77/80\n",
      "76/76 [==============================] - 28s 377ms/step - loss: 0.1736 - accuracy: 0.9285 - val_loss: 0.7208 - val_accuracy: 0.8200\n",
      "Epoch 78/80\n",
      "76/76 [==============================] - 30s 391ms/step - loss: 0.1699 - accuracy: 0.9338 - val_loss: 0.6371 - val_accuracy: 0.8300\n",
      "Epoch 79/80\n",
      "76/76 [==============================] - 30s 398ms/step - loss: 0.1704 - accuracy: 0.9404 - val_loss: 0.6446 - val_accuracy: 0.8317\n",
      "Epoch 80/80\n",
      "76/76 [==============================] - 31s 405ms/step - loss: 0.1812 - accuracy: 0.9301 - val_loss: 0.6945 - val_accuracy: 0.8317\n"
     ]
    },
    {
     "data": {
      "text/plain": [
       "<keras.callbacks.History at 0x218d2a85880>"
      ]
     },
     "execution_count": 23,
     "metadata": {},
     "output_type": "execute_result"
    }
   ],
   "source": [
    "model.fit(x_train,steps_per_epoch=len(x_train),epochs=80,validation_data=x_test,validation_steps=len(x_test))#steps_per_epoch=76,validation_steps=19"
   ]
  },
  {
   "cell_type": "code",
   "execution_count": 24,
   "id": "34289b7b",
   "metadata": {},
   "outputs": [],
   "source": [
    "model.save('LocalModel.h5')"
   ]
  },
  {
   "cell_type": "code",
   "execution_count": 25,
   "id": "b75f3ec8",
   "metadata": {},
   "outputs": [],
   "source": [
    "from tensorflow.keras.models import load_model\n",
    "from keras.preprocessing import image\n",
    "model=load_model(\"LocalModel.h5\")"
   ]
  },
  {
   "cell_type": "code",
   "execution_count": 27,
   "id": "9d567c61",
   "metadata": {},
   "outputs": [
    {
     "data": {
      "text/plain": [
       "array([[0., 1., 0.]], dtype=float32)"
      ]
     },
     "execution_count": 27,
     "metadata": {},
     "output_type": "execute_result"
    }
   ],
   "source": [
    "img=image.load_img(r\"C:\\Users\\ADMIN\\Downloads\\dataset\\pizza1.jpg\",target_size=(64,64))\n",
    "x = image.img_to_array(img)\n",
    "x = np.expand_dims(x,axis = 0)\n",
    "pred = model.predict(x)\n",
    "pred"
   ]
  },
  {
   "cell_type": "code",
   "execution_count": 28,
   "id": "68f0d5cf",
   "metadata": {},
   "outputs": [
    {
     "data": {
      "text/plain": [
       "array([1], dtype=int64)"
      ]
     },
     "execution_count": 28,
     "metadata": {},
     "output_type": "execute_result"
    }
   ],
   "source": [
    "index=['french_fries', 'pizza', 'samosa']\n",
    "result=np.argmax(pred,axis=1)\n",
    "result"
   ]
  },
  {
   "cell_type": "code",
   "execution_count": 29,
   "id": "86cf90d6",
   "metadata": {},
   "outputs": [
    {
     "data": {
      "text/plain": [
       "'pizza'"
      ]
     },
     "execution_count": 29,
     "metadata": {},
     "output_type": "execute_result"
    }
   ],
   "source": [
    "result=index[result[0]]\n",
    "result"
   ]
  },
  {
   "cell_type": "code",
   "execution_count": null,
   "id": "289e1dd0",
   "metadata": {},
   "outputs": [],
   "source": []
  },
  {
   "cell_type": "code",
   "execution_count": null,
   "id": "b259334e",
   "metadata": {},
   "outputs": [],
   "source": []
  }
 ],
 "metadata": {
  "kernelspec": {
   "display_name": "Python 3",
   "language": "python",
   "name": "python3"
  },
  "language_info": {
   "codemirror_mode": {
    "name": "ipython",
    "version": 3
   },
   "file_extension": ".py",
   "mimetype": "text/x-python",
   "name": "python",
   "nbconvert_exporter": "python",
   "pygments_lexer": "ipython3",
   "version": "3.8.8"
  }
 },
 "nbformat": 4,
 "nbformat_minor": 5
}
