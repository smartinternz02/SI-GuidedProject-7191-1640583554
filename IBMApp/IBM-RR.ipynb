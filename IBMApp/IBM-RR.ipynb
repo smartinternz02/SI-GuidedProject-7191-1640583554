{
 "cells": [
  {
   "cell_type": "code",
   "execution_count": 7,
   "id": "spiritual-newark",
   "metadata": {},
   "outputs": [
    {
     "name": "stdout",
     "output_type": "stream",
     "text": [
      "Requirement already satisfied: tensorflow==2.4.0 in /opt/conda/envs/Python-3.8-main/lib/python3.8/site-packages (2.4.0)\n",
      "Requirement already satisfied: numpy~=1.19.2 in /opt/conda/envs/Python-3.8-main/lib/python3.8/site-packages (from tensorflow==2.4.0) (1.19.2)\n",
      "Requirement already satisfied: grpcio~=1.32.0 in /opt/conda/envs/Python-3.8-main/lib/python3.8/site-packages (from tensorflow==2.4.0) (1.32.0)\n",
      "Requirement already satisfied: keras-preprocessing~=1.1.2 in /opt/conda/envs/Python-3.8-main/lib/python3.8/site-packages (from tensorflow==2.4.0) (1.1.2)\n",
      "Requirement already satisfied: gast==0.3.3 in /opt/conda/envs/Python-3.8-main/lib/python3.8/site-packages (from tensorflow==2.4.0) (0.3.3)\n",
      "Requirement already satisfied: absl-py~=0.10 in /opt/conda/envs/Python-3.8-main/lib/python3.8/site-packages (from tensorflow==2.4.0) (0.10.0)\n",
      "Requirement already satisfied: wheel~=0.35 in /opt/conda/envs/Python-3.8-main/lib/python3.8/site-packages (from tensorflow==2.4.0) (0.35.1)\n",
      "Requirement already satisfied: six~=1.15.0 in /opt/conda/envs/Python-3.8-main/lib/python3.8/site-packages (from tensorflow==2.4.0) (1.15.0)\n",
      "Requirement already satisfied: typing-extensions~=3.7.4 in /opt/conda/envs/Python-3.8-main/lib/python3.8/site-packages (from tensorflow==2.4.0) (3.7.4.3)\n",
      "Requirement already satisfied: h5py~=2.10.0 in /opt/conda/envs/Python-3.8-main/lib/python3.8/site-packages (from tensorflow==2.4.0) (2.10.0)\n",
      "Requirement already satisfied: google-pasta~=0.2 in /opt/conda/envs/Python-3.8-main/lib/python3.8/site-packages (from tensorflow==2.4.0) (0.2.0)\n",
      "Requirement already satisfied: protobuf>=3.9.2 in /opt/conda/envs/Python-3.8-main/lib/python3.8/site-packages (from tensorflow==2.4.0) (3.11.2)\n",
      "Requirement already satisfied: termcolor~=1.1.0 in /opt/conda/envs/Python-3.8-main/lib/python3.8/site-packages (from tensorflow==2.4.0) (1.1.0)\n",
      "Requirement already satisfied: tensorboard~=2.4 in /opt/conda/envs/Python-3.8-main/lib/python3.8/site-packages (from tensorflow==2.4.0) (2.4.1)\n",
      "Requirement already satisfied: astunparse~=1.6.3 in /opt/conda/envs/Python-3.8-main/lib/python3.8/site-packages (from tensorflow==2.4.0) (1.6.3)\n",
      "Requirement already satisfied: wrapt~=1.12.1 in /opt/conda/envs/Python-3.8-main/lib/python3.8/site-packages (from tensorflow==2.4.0) (1.12.1)\n",
      "Requirement already satisfied: flatbuffers~=1.12.0 in /opt/conda/envs/Python-3.8-main/lib/python3.8/site-packages (from tensorflow==2.4.0) (1.12)\n",
      "Requirement already satisfied: opt-einsum~=3.3.0 in /opt/conda/envs/Python-3.8-main/lib/python3.8/site-packages (from tensorflow==2.4.0) (3.3.0)\n",
      "Requirement already satisfied: tensorflow-estimator<2.5.0,>=2.4.0rc0 in /opt/conda/envs/Python-3.8-main/lib/python3.8/site-packages (from tensorflow==2.4.0) (2.4.0)\n",
      "Requirement already satisfied: setuptools in /opt/conda/envs/Python-3.8-main/lib/python3.8/site-packages (from protobuf>=3.9.2->tensorflow==2.4.0) (52.0.0.post20211006)\n",
      "Requirement already satisfied: werkzeug>=0.11.15 in /opt/conda/envs/Python-3.8-main/lib/python3.8/site-packages (from tensorboard~=2.4->tensorflow==2.4.0) (2.0.1)\n",
      "Requirement already satisfied: tensorboard-plugin-wit>=1.6.0 in /opt/conda/envs/Python-3.8-main/lib/python3.8/site-packages (from tensorboard~=2.4->tensorflow==2.4.0) (1.6.0)\n",
      "Requirement already satisfied: google-auth-oauthlib<0.5,>=0.4.1 in /opt/conda/envs/Python-3.8-main/lib/python3.8/site-packages (from tensorboard~=2.4->tensorflow==2.4.0) (0.4.4)\n",
      "Requirement already satisfied: google-auth<2,>=1.6.3 in /opt/conda/envs/Python-3.8-main/lib/python3.8/site-packages (from tensorboard~=2.4->tensorflow==2.4.0) (1.23.0)\n",
      "Requirement already satisfied: requests<3,>=2.21.0 in /opt/conda/envs/Python-3.8-main/lib/python3.8/site-packages (from tensorboard~=2.4->tensorflow==2.4.0) (2.25.1)\n",
      "Requirement already satisfied: markdown>=2.6.8 in /opt/conda/envs/Python-3.8-main/lib/python3.8/site-packages (from tensorboard~=2.4->tensorflow==2.4.0) (3.1.1)\n",
      "Requirement already satisfied: cachetools<5.0,>=2.0.0 in /opt/conda/envs/Python-3.8-main/lib/python3.8/site-packages (from google-auth<2,>=1.6.3->tensorboard~=2.4->tensorflow==2.4.0) (4.2.2)\n",
      "Requirement already satisfied: pyasn1-modules>=0.2.1 in /opt/conda/envs/Python-3.8-main/lib/python3.8/site-packages (from google-auth<2,>=1.6.3->tensorboard~=2.4->tensorflow==2.4.0) (0.2.8)\n",
      "Requirement already satisfied: rsa<5,>=3.1.4 in /opt/conda/envs/Python-3.8-main/lib/python3.8/site-packages (from google-auth<2,>=1.6.3->tensorboard~=2.4->tensorflow==2.4.0) (4.7.2)\n",
      "Requirement already satisfied: requests-oauthlib>=0.7.0 in /opt/conda/envs/Python-3.8-main/lib/python3.8/site-packages (from google-auth-oauthlib<0.5,>=0.4.1->tensorboard~=2.4->tensorflow==2.4.0) (1.3.0)\n",
      "Requirement already satisfied: pyasn1<0.5.0,>=0.4.6 in /opt/conda/envs/Python-3.8-main/lib/python3.8/site-packages (from pyasn1-modules>=0.2.1->google-auth<2,>=1.6.3->tensorboard~=2.4->tensorflow==2.4.0) (0.4.8)\n",
      "Requirement already satisfied: urllib3<1.27,>=1.21.1 in /opt/conda/envs/Python-3.8-main/lib/python3.8/site-packages (from requests<3,>=2.21.0->tensorboard~=2.4->tensorflow==2.4.0) (1.26.6)\n",
      "Requirement already satisfied: certifi>=2017.4.17 in /opt/conda/envs/Python-3.8-main/lib/python3.8/site-packages (from requests<3,>=2.21.0->tensorboard~=2.4->tensorflow==2.4.0) (2021.10.8)\n",
      "Requirement already satisfied: chardet<5,>=3.0.2 in /opt/conda/envs/Python-3.8-main/lib/python3.8/site-packages (from requests<3,>=2.21.0->tensorboard~=2.4->tensorflow==2.4.0) (3.0.4)\n",
      "Requirement already satisfied: idna<3,>=2.5 in /opt/conda/envs/Python-3.8-main/lib/python3.8/site-packages (from requests<3,>=2.21.0->tensorboard~=2.4->tensorflow==2.4.0) (2.8)\n",
      "Requirement already satisfied: oauthlib>=3.0.0 in /opt/conda/envs/Python-3.8-main/lib/python3.8/site-packages (from requests-oauthlib>=0.7.0->google-auth-oauthlib<0.5,>=0.4.1->tensorboard~=2.4->tensorflow==2.4.0) (3.1.1)\n",
      "Requirement already satisfied: keras==2.2.4 in /opt/conda/envs/Python-3.8-main/lib/python3.8/site-packages (2.2.4)\n",
      "Requirement already satisfied: numpy>=1.9.1 in /opt/conda/envs/Python-3.8-main/lib/python3.8/site-packages (from keras==2.2.4) (1.19.2)\n",
      "Requirement already satisfied: pyyaml in /opt/conda/envs/Python-3.8-main/lib/python3.8/site-packages (from keras==2.2.4) (5.4.1)\n",
      "Requirement already satisfied: six>=1.9.0 in /opt/conda/envs/Python-3.8-main/lib/python3.8/site-packages (from keras==2.2.4) (1.15.0)\n",
      "Requirement already satisfied: keras-applications>=1.0.6 in /opt/conda/envs/Python-3.8-main/lib/python3.8/site-packages (from keras==2.2.4) (1.0.8)\n",
      "Requirement already satisfied: scipy>=0.14 in /opt/conda/envs/Python-3.8-main/lib/python3.8/site-packages (from keras==2.2.4) (1.4.1)\n",
      "Requirement already satisfied: h5py in /opt/conda/envs/Python-3.8-main/lib/python3.8/site-packages (from keras==2.2.4) (2.10.0)\n",
      "Requirement already satisfied: keras-preprocessing>=1.0.5 in /opt/conda/envs/Python-3.8-main/lib/python3.8/site-packages (from keras==2.2.4) (1.1.2)\n"
     ]
    }
   ],
   "source": [
    "!pip install tensorflow==2.4.0\n",
    "!pip install keras==2.2.4"
   ]
  },
  {
   "cell_type": "code",
   "execution_count": 8,
   "id": "fe2bd106",
   "metadata": {},
   "outputs": [],
   "source": [
    "from tensorflow.keras.preprocessing.image import ImageDataGenerator"
   ]
  },
  {
   "cell_type": "code",
   "execution_count": 9,
   "id": "6e019bdc",
   "metadata": {},
   "outputs": [],
   "source": [
    "import numpy as np"
   ]
  },
  {
   "cell_type": "code",
   "execution_count": 10,
   "id": "5dda5b29",
   "metadata": {},
   "outputs": [],
   "source": [
    "from tensorflow.keras.models import Sequential\n",
    "from tensorflow.keras.layers import Dense\n",
    "from tensorflow.keras.layers import Flatten\n",
    "from tensorflow.keras.layers import Conv2D\n",
    "from tensorflow.keras.layers import MaxPooling2D\n",
    "from tensorflow.keras.layers import Dropout\n",
    "from tensorflow.keras.models import load_model"
   ]
  },
  {
   "cell_type": "code",
   "execution_count": 11,
   "id": "e135aa33",
   "metadata": {},
   "outputs": [],
   "source": [
    "train_datagen=ImageDataGenerator(rescale=1./255,shear_range=0.2,zoom_range=0.2,horizontal_flip=True)"
   ]
  },
  {
   "cell_type": "code",
   "execution_count": 12,
   "id": "a41a55f4",
   "metadata": {},
   "outputs": [],
   "source": [
    "test_datagen=ImageDataGenerator(rescale=1./255)"
   ]
  },
  {
   "cell_type": "code",
   "execution_count": 13,
   "id": "technical-finnish",
   "metadata": {},
   "outputs": [],
   "source": [
    "\n",
    "import os, types\n",
    "import pandas as pd\n",
    "from botocore.client import Config\n",
    "import ibm_boto3\n",
    "\n",
    "def __iter__(self): return 0\n",
    "\n",
    "# @hidden_cell\n",
    "# The following code accesses a file in your IBM Cloud Object Storage. It includes your credentials.\n",
    "# You might want to remove those credentials before you share the notebook.\n",
    "\n",
    "if os.environ.get('RUNTIME_ENV_LOCATION_TYPE') == 'external':\n",
    "    endpoint_9850a50ebeed4c27a806eecbd24caac9 = 'https://s3.us.cloud-object-storage.appdomain.cloud'\n",
    "else:\n",
    "    endpoint_9850a50ebeed4c27a806eecbd24caac9 = 'https://s3.private.us.cloud-object-storage.appdomain.cloud'\n",
    "\n",
    "client_9850a50ebeed4c27a806eecbd24caac9 = ibm_boto3.client(service_name='s3',\n",
    "    ibm_api_key_id='D7XYHfjV-ggYKGOqkw0WC_DXewfLXmSuOBN-oeZ7IAKB',\n",
    "    ibm_auth_endpoint=\"https://iam.cloud.ibm.com/oidc/token\",\n",
    "    config=Config(signature_version='oauth'),\n",
    "    endpoint_url=endpoint_9850a50ebeed4c27a806eecbd24caac9)\n",
    "\n",
    "streaming_body_1 = client_9850a50ebeed4c27a806eecbd24caac9.get_object(Bucket='reciperecognitionproject-donotdelete-pr-53tbbsf5qgh4br', Key='dataset.zip')['Body']\n",
    "\n",
    "# Your data file was loaded into a botocore.response.StreamingBody object.\n",
    "# Please read the documentation of ibm_boto3 and pandas to learn more about the possibilities to load the data.\n",
    "# ibm_boto3 documentation: https://ibm.github.io/ibm-cos-sdk-python/\n",
    "# pandas documentation: http://pandas.pydata.org/\n"
   ]
  },
  {
   "cell_type": "code",
   "execution_count": 14,
   "id": "israeli-times",
   "metadata": {},
   "outputs": [],
   "source": [
    "from io import BytesIO\n",
    "import zipfile\n",
    "unzip=zipfile.ZipFile(BytesIO(streaming_body_1.read()),'r')\n",
    "file_paths=unzip.namelist()\n",
    "for path in file_paths:\n",
    "    unzip.extract(path)"
   ]
  },
  {
   "cell_type": "code",
   "execution_count": 15,
   "id": "fixed-penny",
   "metadata": {},
   "outputs": [
    {
     "data": {
      "text/plain": [
       "'/home/wsuser/work'"
      ]
     },
     "execution_count": 15,
     "metadata": {},
     "output_type": "execute_result"
    }
   ],
   "source": [
    "pwd\n"
   ]
  },
  {
   "cell_type": "code",
   "execution_count": 16,
   "id": "labeled-billy",
   "metadata": {},
   "outputs": [],
   "source": [
    "import os\n",
    "filenames=os.listdir('/home/wsuser/work/dataset/training_set')"
   ]
  },
  {
   "cell_type": "code",
   "execution_count": 17,
   "id": "015aed1c",
   "metadata": {},
   "outputs": [
    {
     "name": "stdout",
     "output_type": "stream",
     "text": [
      "Found 2418 images belonging to 3 classes.\n"
     ]
    }
   ],
   "source": [
    "x_train=train_datagen.flow_from_directory(directory=r'/home/wsuser/work/dataset/training_set',target_size=(64,64),batch_size=32,class_mode='categorical')"
   ]
  },
  {
   "cell_type": "code",
   "execution_count": 18,
   "id": "5f9d6e97",
   "metadata": {},
   "outputs": [
    {
     "name": "stdout",
     "output_type": "stream",
     "text": [
      "Found 600 images belonging to 3 classes.\n"
     ]
    }
   ],
   "source": [
    "x_test=test_datagen.flow_from_directory(directory=r'/home/wsuser/work/dataset/test_set',target_size=(64,64),batch_size=32,class_mode='categorical')"
   ]
  },
  {
   "cell_type": "code",
   "execution_count": 19,
   "id": "4885addc",
   "metadata": {},
   "outputs": [
    {
     "name": "stdout",
     "output_type": "stream",
     "text": [
      "{'french_fries': 0, 'pizza': 1, 'samosa': 2}\n"
     ]
    }
   ],
   "source": [
    "print(x_train.class_indices)"
   ]
  },
  {
   "cell_type": "code",
   "execution_count": 20,
   "id": "09a78b97",
   "metadata": {},
   "outputs": [],
   "source": [
    "from collections import Counter as c"
   ]
  },
  {
   "cell_type": "code",
   "execution_count": 21,
   "id": "4e2c443f",
   "metadata": {},
   "outputs": [
    {
     "data": {
      "text/plain": [
       "Counter({0: 804, 1: 804, 2: 810})"
      ]
     },
     "execution_count": 21,
     "metadata": {},
     "output_type": "execute_result"
    }
   ],
   "source": [
    "c(x_train.labels)"
   ]
  },
  {
   "cell_type": "code",
   "execution_count": 22,
   "id": "e9c1881f",
   "metadata": {},
   "outputs": [],
   "source": [
    "model=Sequential()"
   ]
  },
  {
   "cell_type": "code",
   "execution_count": 23,
   "id": "33e4d913",
   "metadata": {},
   "outputs": [],
   "source": [
    "model.add(Conv2D(32,(3,3),input_shape=(64,64,3),activation='relu'))"
   ]
  },
  {
   "cell_type": "code",
   "execution_count": 24,
   "id": "2ca2c03f",
   "metadata": {},
   "outputs": [],
   "source": [
    "model.add(MaxPooling2D(pool_size=(2,2)))"
   ]
  },
  {
   "cell_type": "code",
   "execution_count": 25,
   "id": "66f5c080",
   "metadata": {},
   "outputs": [],
   "source": [
    "model.add(Conv2D(32,(3,3),activation='relu'))"
   ]
  },
  {
   "cell_type": "code",
   "execution_count": 26,
   "id": "9e72b11e",
   "metadata": {},
   "outputs": [],
   "source": [
    "model.add(MaxPooling2D(pool_size=(2,2)))"
   ]
  },
  {
   "cell_type": "code",
   "execution_count": 27,
   "id": "ec71e0c7",
   "metadata": {},
   "outputs": [],
   "source": [
    "model.add(Dropout(0.2))"
   ]
  },
  {
   "cell_type": "code",
   "execution_count": 28,
   "id": "8a315ebe",
   "metadata": {},
   "outputs": [],
   "source": [
    "model.add(Flatten())"
   ]
  },
  {
   "cell_type": "code",
   "execution_count": 29,
   "id": "8bc18d99",
   "metadata": {},
   "outputs": [],
   "source": [
    "model.add(Dense(units=32,activation='relu'))"
   ]
  },
  {
   "cell_type": "code",
   "execution_count": 30,
   "id": "b9560c0d",
   "metadata": {},
   "outputs": [],
   "source": [
    "model.add(Dense(units=3,activation='softmax'))"
   ]
  },
  {
   "cell_type": "code",
   "execution_count": 31,
   "id": "6a87101b",
   "metadata": {},
   "outputs": [
    {
     "name": "stdout",
     "output_type": "stream",
     "text": [
      "Model: \"sequential\"\n",
      "_________________________________________________________________\n",
      "Layer (type)                 Output Shape              Param #   \n",
      "=================================================================\n",
      "conv2d (Conv2D)              (None, 62, 62, 32)        896       \n",
      "_________________________________________________________________\n",
      "max_pooling2d (MaxPooling2D) (None, 31, 31, 32)        0         \n",
      "_________________________________________________________________\n",
      "conv2d_1 (Conv2D)            (None, 29, 29, 32)        9248      \n",
      "_________________________________________________________________\n",
      "max_pooling2d_1 (MaxPooling2 (None, 14, 14, 32)        0         \n",
      "_________________________________________________________________\n",
      "dropout (Dropout)            (None, 14, 14, 32)        0         \n",
      "_________________________________________________________________\n",
      "flatten (Flatten)            (None, 6272)              0         \n",
      "_________________________________________________________________\n",
      "dense (Dense)                (None, 32)                200736    \n",
      "_________________________________________________________________\n",
      "dense_1 (Dense)              (None, 3)                 99        \n",
      "=================================================================\n",
      "Total params: 210,979\n",
      "Trainable params: 210,979\n",
      "Non-trainable params: 0\n",
      "_________________________________________________________________\n"
     ]
    }
   ],
   "source": [
    "model.summary()"
   ]
  },
  {
   "cell_type": "code",
   "execution_count": 32,
   "id": "4288407e",
   "metadata": {},
   "outputs": [],
   "source": [
    "model.compile(optimizer='adam',loss='categorical_crossentropy',metrics=['accuracy'])"
   ]
  },
  {
   "cell_type": "code",
   "execution_count": 33,
   "id": "3c33c6e2",
   "metadata": {},
   "outputs": [
    {
     "name": "stdout",
     "output_type": "stream",
     "text": [
      "76 19\n"
     ]
    }
   ],
   "source": [
    "print(len(x_train),len(x_test))"
   ]
  },
  {
   "cell_type": "code",
   "execution_count": 34,
   "id": "6d3a7fad",
   "metadata": {},
   "outputs": [
    {
     "name": "stdout",
     "output_type": "stream",
     "text": [
      "Epoch 1/80\n",
      "76/76 [==============================] - 24s 304ms/step - loss: 1.0907 - accuracy: 0.3774 - val_loss: 0.9696 - val_accuracy: 0.5300\n",
      "Epoch 2/80\n",
      "76/76 [==============================] - 22s 291ms/step - loss: 0.9533 - accuracy: 0.5542 - val_loss: 0.9089 - val_accuracy: 0.5550\n",
      "Epoch 3/80\n",
      "76/76 [==============================] - 22s 293ms/step - loss: 0.8934 - accuracy: 0.5904 - val_loss: 0.8811 - val_accuracy: 0.5800\n",
      "Epoch 4/80\n",
      "76/76 [==============================] - 22s 289ms/step - loss: 0.8264 - accuracy: 0.6189 - val_loss: 0.7827 - val_accuracy: 0.6667\n",
      "Epoch 5/80\n",
      "76/76 [==============================] - 22s 291ms/step - loss: 0.7562 - accuracy: 0.6705 - val_loss: 0.7399 - val_accuracy: 0.6600\n",
      "Epoch 6/80\n",
      "76/76 [==============================] - 22s 291ms/step - loss: 0.7126 - accuracy: 0.6841 - val_loss: 0.7146 - val_accuracy: 0.6767\n",
      "Epoch 7/80\n",
      "76/76 [==============================] - 22s 293ms/step - loss: 0.7250 - accuracy: 0.6906 - val_loss: 0.6352 - val_accuracy: 0.7300\n",
      "Epoch 8/80\n",
      "76/76 [==============================] - 23s 298ms/step - loss: 0.6774 - accuracy: 0.6992 - val_loss: 0.7142 - val_accuracy: 0.7117\n",
      "Epoch 9/80\n",
      "76/76 [==============================] - 22s 295ms/step - loss: 0.6482 - accuracy: 0.7230 - val_loss: 0.8103 - val_accuracy: 0.6467\n",
      "Epoch 10/80\n",
      "76/76 [==============================] - 22s 291ms/step - loss: 0.6086 - accuracy: 0.7387 - val_loss: 0.5598 - val_accuracy: 0.7633\n",
      "Epoch 11/80\n",
      "76/76 [==============================] - 22s 285ms/step - loss: 0.5808 - accuracy: 0.7669 - val_loss: 0.6226 - val_accuracy: 0.7717\n",
      "Epoch 12/80\n",
      "76/76 [==============================] - 22s 289ms/step - loss: 0.5521 - accuracy: 0.7741 - val_loss: 0.5565 - val_accuracy: 0.7867\n",
      "Epoch 13/80\n",
      "76/76 [==============================] - 22s 295ms/step - loss: 0.5373 - accuracy: 0.7800 - val_loss: 0.5210 - val_accuracy: 0.7850\n",
      "Epoch 14/80\n",
      "76/76 [==============================] - 22s 293ms/step - loss: 0.5333 - accuracy: 0.7812 - val_loss: 0.6410 - val_accuracy: 0.7300\n",
      "Epoch 15/80\n",
      "76/76 [==============================] - 22s 291ms/step - loss: 0.5433 - accuracy: 0.7738 - val_loss: 0.6200 - val_accuracy: 0.7450\n",
      "Epoch 16/80\n",
      "76/76 [==============================] - 22s 291ms/step - loss: 0.5123 - accuracy: 0.8056 - val_loss: 0.4938 - val_accuracy: 0.8050\n",
      "Epoch 17/80\n",
      "76/76 [==============================] - 23s 297ms/step - loss: 0.4920 - accuracy: 0.7981 - val_loss: 0.5320 - val_accuracy: 0.8067\n",
      "Epoch 18/80\n",
      "76/76 [==============================] - 22s 293ms/step - loss: 0.4727 - accuracy: 0.8123 - val_loss: 0.5978 - val_accuracy: 0.7850\n",
      "Epoch 19/80\n",
      "76/76 [==============================] - 22s 291ms/step - loss: 0.4865 - accuracy: 0.8095 - val_loss: 0.5249 - val_accuracy: 0.8017\n",
      "Epoch 20/80\n",
      "76/76 [==============================] - 23s 298ms/step - loss: 0.4074 - accuracy: 0.8506 - val_loss: 0.4761 - val_accuracy: 0.8150\n",
      "Epoch 21/80\n",
      "76/76 [==============================] - 22s 291ms/step - loss: 0.4378 - accuracy: 0.8311 - val_loss: 0.4700 - val_accuracy: 0.8117\n",
      "Epoch 22/80\n",
      "76/76 [==============================] - 22s 284ms/step - loss: 0.4438 - accuracy: 0.8350 - val_loss: 0.5401 - val_accuracy: 0.7817\n",
      "Epoch 23/80\n",
      "76/76 [==============================] - 22s 295ms/step - loss: 0.4070 - accuracy: 0.8455 - val_loss: 0.4641 - val_accuracy: 0.8217\n",
      "Epoch 24/80\n",
      "76/76 [==============================] - 22s 285ms/step - loss: 0.3804 - accuracy: 0.8557 - val_loss: 0.5056 - val_accuracy: 0.8117\n",
      "Epoch 25/80\n",
      "76/76 [==============================] - 22s 292ms/step - loss: 0.3998 - accuracy: 0.8318 - val_loss: 0.4276 - val_accuracy: 0.8383\n",
      "Epoch 26/80\n",
      "76/76 [==============================] - 22s 290ms/step - loss: 0.3912 - accuracy: 0.8445 - val_loss: 0.4274 - val_accuracy: 0.8400\n",
      "Epoch 27/80\n",
      "76/76 [==============================] - 22s 291ms/step - loss: 0.3576 - accuracy: 0.8611 - val_loss: 0.5421 - val_accuracy: 0.7967\n",
      "Epoch 28/80\n",
      "76/76 [==============================] - 22s 295ms/step - loss: 0.3453 - accuracy: 0.8650 - val_loss: 0.7268 - val_accuracy: 0.7333\n",
      "Epoch 29/80\n",
      "76/76 [==============================] - 22s 286ms/step - loss: 0.3828 - accuracy: 0.8266 - val_loss: 0.4910 - val_accuracy: 0.8067\n",
      "Epoch 30/80\n",
      "76/76 [==============================] - 22s 286ms/step - loss: 0.3629 - accuracy: 0.8473 - val_loss: 0.5971 - val_accuracy: 0.8167\n",
      "Epoch 31/80\n",
      "76/76 [==============================] - 22s 291ms/step - loss: 0.3408 - accuracy: 0.8552 - val_loss: 0.4707 - val_accuracy: 0.8283\n",
      "Epoch 32/80\n",
      "76/76 [==============================] - 22s 289ms/step - loss: 0.3432 - accuracy: 0.8672 - val_loss: 0.5926 - val_accuracy: 0.7867\n",
      "Epoch 33/80\n",
      "76/76 [==============================] - 22s 293ms/step - loss: 0.3374 - accuracy: 0.8595 - val_loss: 0.4875 - val_accuracy: 0.8167\n",
      "Epoch 34/80\n",
      "76/76 [==============================] - 22s 289ms/step - loss: 0.3299 - accuracy: 0.8606 - val_loss: 0.5098 - val_accuracy: 0.8100\n",
      "Epoch 35/80\n",
      "76/76 [==============================] - 22s 290ms/step - loss: 0.3013 - accuracy: 0.8851 - val_loss: 0.5432 - val_accuracy: 0.8183\n",
      "Epoch 36/80\n",
      "76/76 [==============================] - 22s 291ms/step - loss: 0.2998 - accuracy: 0.8866 - val_loss: 0.5105 - val_accuracy: 0.8117\n",
      "Epoch 37/80\n",
      "76/76 [==============================] - 22s 293ms/step - loss: 0.2830 - accuracy: 0.8973 - val_loss: 0.5032 - val_accuracy: 0.8367\n",
      "Epoch 38/80\n",
      "76/76 [==============================] - 22s 286ms/step - loss: 0.2816 - accuracy: 0.8834 - val_loss: 0.6220 - val_accuracy: 0.8133\n",
      "Epoch 39/80\n",
      "76/76 [==============================] - 22s 291ms/step - loss: 0.2960 - accuracy: 0.8904 - val_loss: 0.4895 - val_accuracy: 0.8283\n",
      "Epoch 40/80\n",
      "76/76 [==============================] - 22s 284ms/step - loss: 0.2873 - accuracy: 0.8849 - val_loss: 0.5573 - val_accuracy: 0.8283\n",
      "Epoch 41/80\n",
      "76/76 [==============================] - 22s 286ms/step - loss: 0.2602 - accuracy: 0.9013 - val_loss: 0.6851 - val_accuracy: 0.7850\n",
      "Epoch 42/80\n",
      "76/76 [==============================] - 22s 290ms/step - loss: 0.2565 - accuracy: 0.9061 - val_loss: 0.4790 - val_accuracy: 0.8450\n",
      "Epoch 43/80\n",
      "76/76 [==============================] - 22s 291ms/step - loss: 0.2491 - accuracy: 0.9103 - val_loss: 0.6784 - val_accuracy: 0.8033\n",
      "Epoch 44/80\n",
      "76/76 [==============================] - 22s 288ms/step - loss: 0.2888 - accuracy: 0.8856 - val_loss: 0.5277 - val_accuracy: 0.8217\n",
      "Epoch 45/80\n",
      "76/76 [==============================] - 21s 281ms/step - loss: 0.2841 - accuracy: 0.8936 - val_loss: 0.5137 - val_accuracy: 0.8367\n",
      "Epoch 46/80\n",
      "76/76 [==============================] - 22s 294ms/step - loss: 0.2581 - accuracy: 0.9075 - val_loss: 0.6695 - val_accuracy: 0.8050\n",
      "Epoch 47/80\n",
      "76/76 [==============================] - 22s 290ms/step - loss: 0.2509 - accuracy: 0.9107 - val_loss: 0.5196 - val_accuracy: 0.8267\n",
      "Epoch 48/80\n",
      "76/76 [==============================] - 22s 290ms/step - loss: 0.2273 - accuracy: 0.9167 - val_loss: 0.6143 - val_accuracy: 0.8050\n",
      "Epoch 49/80\n",
      "76/76 [==============================] - 22s 290ms/step - loss: 0.2320 - accuracy: 0.9078 - val_loss: 0.4922 - val_accuracy: 0.8367\n",
      "Epoch 50/80\n",
      "76/76 [==============================] - 23s 298ms/step - loss: 0.2208 - accuracy: 0.9140 - val_loss: 0.5198 - val_accuracy: 0.8583\n",
      "Epoch 51/80\n",
      "76/76 [==============================] - 22s 292ms/step - loss: 0.2689 - accuracy: 0.8887 - val_loss: 0.5197 - val_accuracy: 0.8367\n",
      "Epoch 52/80\n",
      "76/76 [==============================] - 22s 294ms/step - loss: 0.2072 - accuracy: 0.9279 - val_loss: 0.5026 - val_accuracy: 0.8450\n",
      "Epoch 53/80\n",
      "76/76 [==============================] - 22s 291ms/step - loss: 0.2320 - accuracy: 0.9142 - val_loss: 0.5621 - val_accuracy: 0.8233\n",
      "Epoch 54/80\n",
      "76/76 [==============================] - 22s 293ms/step - loss: 0.2421 - accuracy: 0.9068 - val_loss: 0.5029 - val_accuracy: 0.8517\n",
      "Epoch 55/80\n",
      "76/76 [==============================] - 22s 293ms/step - loss: 0.1889 - accuracy: 0.9223 - val_loss: 0.5235 - val_accuracy: 0.8300\n",
      "Epoch 56/80\n",
      "76/76 [==============================] - 22s 294ms/step - loss: 0.2084 - accuracy: 0.9231 - val_loss: 0.5200 - val_accuracy: 0.8400\n",
      "Epoch 57/80\n",
      "76/76 [==============================] - 23s 296ms/step - loss: 0.1914 - accuracy: 0.9300 - val_loss: 0.5011 - val_accuracy: 0.8433\n",
      "Epoch 58/80\n",
      "76/76 [==============================] - 22s 294ms/step - loss: 0.2320 - accuracy: 0.9132 - val_loss: 0.5053 - val_accuracy: 0.8550\n",
      "Epoch 59/80\n",
      "76/76 [==============================] - 22s 294ms/step - loss: 0.1730 - accuracy: 0.9377 - val_loss: 0.6079 - val_accuracy: 0.8150\n",
      "Epoch 60/80\n",
      "76/76 [==============================] - 22s 288ms/step - loss: 0.1906 - accuracy: 0.9349 - val_loss: 0.7484 - val_accuracy: 0.7933\n",
      "Epoch 61/80\n",
      "76/76 [==============================] - 22s 292ms/step - loss: 0.2446 - accuracy: 0.9100 - val_loss: 0.5993 - val_accuracy: 0.8217\n",
      "Epoch 62/80\n",
      "76/76 [==============================] - 22s 284ms/step - loss: 0.1780 - accuracy: 0.9337 - val_loss: 0.5372 - val_accuracy: 0.8467\n",
      "Epoch 63/80\n",
      "76/76 [==============================] - 22s 288ms/step - loss: 0.1858 - accuracy: 0.9295 - val_loss: 0.7008 - val_accuracy: 0.8117\n",
      "Epoch 64/80\n",
      "76/76 [==============================] - 22s 286ms/step - loss: 0.1930 - accuracy: 0.9226 - val_loss: 0.5849 - val_accuracy: 0.8333\n",
      "Epoch 65/80\n",
      "76/76 [==============================] - 22s 287ms/step - loss: 0.1812 - accuracy: 0.9281 - val_loss: 0.5653 - val_accuracy: 0.8233\n",
      "Epoch 66/80\n",
      "76/76 [==============================] - 22s 289ms/step - loss: 0.1910 - accuracy: 0.9241 - val_loss: 0.6461 - val_accuracy: 0.8350\n",
      "Epoch 67/80\n",
      "76/76 [==============================] - 22s 290ms/step - loss: 0.1884 - accuracy: 0.9239 - val_loss: 0.6600 - val_accuracy: 0.8117\n",
      "Epoch 68/80\n",
      "76/76 [==============================] - 21s 282ms/step - loss: 0.1774 - accuracy: 0.9337 - val_loss: 0.6039 - val_accuracy: 0.8267\n",
      "Epoch 69/80\n",
      "76/76 [==============================] - 22s 290ms/step - loss: 0.1559 - accuracy: 0.9413 - val_loss: 0.8494 - val_accuracy: 0.7800\n",
      "Epoch 70/80\n",
      "76/76 [==============================] - 22s 283ms/step - loss: 0.1810 - accuracy: 0.9339 - val_loss: 0.6825 - val_accuracy: 0.8283\n",
      "Epoch 71/80\n",
      "76/76 [==============================] - 22s 289ms/step - loss: 0.1690 - accuracy: 0.9310 - val_loss: 0.6570 - val_accuracy: 0.8067\n",
      "Epoch 72/80\n",
      "76/76 [==============================] - 22s 289ms/step - loss: 0.1910 - accuracy: 0.9202 - val_loss: 0.6020 - val_accuracy: 0.8267\n",
      "Epoch 73/80\n",
      "76/76 [==============================] - 22s 285ms/step - loss: 0.1350 - accuracy: 0.9497 - val_loss: 0.5892 - val_accuracy: 0.8467\n",
      "Epoch 74/80\n",
      "76/76 [==============================] - 22s 288ms/step - loss: 0.1647 - accuracy: 0.9370 - val_loss: 0.5586 - val_accuracy: 0.8533\n",
      "Epoch 75/80\n",
      "76/76 [==============================] - 22s 287ms/step - loss: 0.1522 - accuracy: 0.9414 - val_loss: 0.7009 - val_accuracy: 0.8317\n",
      "Epoch 76/80\n",
      "76/76 [==============================] - 22s 286ms/step - loss: 0.1725 - accuracy: 0.9390 - val_loss: 0.5199 - val_accuracy: 0.8517\n",
      "Epoch 77/80\n",
      "76/76 [==============================] - 22s 290ms/step - loss: 0.1742 - accuracy: 0.9411 - val_loss: 0.6490 - val_accuracy: 0.8333\n",
      "Epoch 78/80\n",
      "76/76 [==============================] - 21s 279ms/step - loss: 0.1447 - accuracy: 0.9457 - val_loss: 0.6299 - val_accuracy: 0.8400\n",
      "Epoch 79/80\n",
      "76/76 [==============================] - 21s 281ms/step - loss: 0.1516 - accuracy: 0.9425 - val_loss: 0.6056 - val_accuracy: 0.8383\n",
      "Epoch 80/80\n",
      "76/76 [==============================] - 22s 292ms/step - loss: 0.1248 - accuracy: 0.9577 - val_loss: 0.4959 - val_accuracy: 0.8667\n"
     ]
    },
    {
     "data": {
      "text/plain": [
       "<tensorflow.python.keras.callbacks.History at 0x7f25043ba1f0>"
      ]
     },
     "execution_count": 34,
     "metadata": {},
     "output_type": "execute_result"
    }
   ],
   "source": [
    "model.fit(x_train,steps_per_epoch=len(x_train),epochs=80,validation_data=x_test,validation_steps=len(x_test))#steps_per_epoch=76,validation_steps=19"
   ]
  },
  {
   "cell_type": "code",
   "execution_count": 35,
   "id": "34289b7b",
   "metadata": {
    "scrolled": true
   },
   "outputs": [],
   "source": [
    "model.save('Model.h5')"
   ]
  },
  {
   "cell_type": "code",
   "execution_count": 36,
   "id": "southeast-drawing",
   "metadata": {},
   "outputs": [
    {
     "name": "stdout",
     "output_type": "stream",
     "text": [
      "Model.h5\r\n"
     ]
    }
   ],
   "source": [
    "!tar -zcvf recipe-recognition-model.tgz Model.h5"
   ]
  },
  {
   "cell_type": "code",
   "execution_count": 37,
   "id": "expired-comparison",
   "metadata": {},
   "outputs": [
    {
     "name": "stdout",
     "output_type": "stream",
     "text": [
      "\u001b[0m\u001b[01;34mdataset\u001b[0m/\r\n",
      "final-model.tar.gz\r\n",
      "Model.h5\r\n",
      "new-model.tar.gz\r\n",
      "recipe-recognition-model.tgz\r\n"
     ]
    }
   ],
   "source": [
    "ls -1"
   ]
  },
  {
   "cell_type": "code",
   "execution_count": 33,
   "id": "public-navigator",
   "metadata": {},
   "outputs": [
    {
     "name": "stdout",
     "output_type": "stream",
     "text": [
      "Collecting watson-machine-learning-client\n",
      "  Downloading watson_machine_learning_client-1.0.391-py3-none-any.whl (538 kB)\n",
      "\u001b[K     |████████████████████████████████| 538 kB 15.7 MB/s eta 0:00:01\n",
      "\u001b[?25hRequirement already satisfied: boto3 in /opt/conda/envs/Python-3.8-main/lib/python3.8/site-packages (from watson-machine-learning-client) (1.17.46)\n",
      "Requirement already satisfied: lomond in /opt/conda/envs/Python-3.8-main/lib/python3.8/site-packages (from watson-machine-learning-client) (0.3.3)\n",
      "Requirement already satisfied: certifi in /opt/conda/envs/Python-3.8-main/lib/python3.8/site-packages (from watson-machine-learning-client) (2021.10.8)\n",
      "Requirement already satisfied: tqdm in /opt/conda/envs/Python-3.8-main/lib/python3.8/site-packages (from watson-machine-learning-client) (4.59.0)\n",
      "Requirement already satisfied: pandas in /opt/conda/envs/Python-3.8-main/lib/python3.8/site-packages (from watson-machine-learning-client) (1.2.4)\n",
      "Requirement already satisfied: ibm-cos-sdk in /opt/conda/envs/Python-3.8-main/lib/python3.8/site-packages (from watson-machine-learning-client) (2.7.0)\n",
      "Requirement already satisfied: urllib3 in /opt/conda/envs/Python-3.8-main/lib/python3.8/site-packages (from watson-machine-learning-client) (1.26.6)\n",
      "Requirement already satisfied: tabulate in /opt/conda/envs/Python-3.8-main/lib/python3.8/site-packages (from watson-machine-learning-client) (0.8.9)\n",
      "Requirement already satisfied: requests in /opt/conda/envs/Python-3.8-main/lib/python3.8/site-packages (from watson-machine-learning-client) (2.25.1)\n",
      "Requirement already satisfied: jmespath<1.0.0,>=0.7.1 in /opt/conda/envs/Python-3.8-main/lib/python3.8/site-packages (from boto3->watson-machine-learning-client) (0.10.0)\n",
      "Requirement already satisfied: s3transfer<0.4.0,>=0.3.0 in /opt/conda/envs/Python-3.8-main/lib/python3.8/site-packages (from boto3->watson-machine-learning-client) (0.3.6)\n",
      "Requirement already satisfied: botocore<1.21.0,>=1.20.46 in /opt/conda/envs/Python-3.8-main/lib/python3.8/site-packages (from boto3->watson-machine-learning-client) (1.20.88)\n",
      "Requirement already satisfied: python-dateutil<3.0.0,>=2.1 in /opt/conda/envs/Python-3.8-main/lib/python3.8/site-packages (from botocore<1.21.0,>=1.20.46->boto3->watson-machine-learning-client) (2.8.1)\n",
      "Requirement already satisfied: six>=1.5 in /opt/conda/envs/Python-3.8-main/lib/python3.8/site-packages (from python-dateutil<3.0.0,>=2.1->botocore<1.21.0,>=1.20.46->boto3->watson-machine-learning-client) (1.15.0)\n",
      "Requirement already satisfied: ibm-cos-sdk-s3transfer==2.7.0 in /opt/conda/envs/Python-3.8-main/lib/python3.8/site-packages (from ibm-cos-sdk->watson-machine-learning-client) (2.7.0)\n",
      "Requirement already satisfied: ibm-cos-sdk-core==2.7.0 in /opt/conda/envs/Python-3.8-main/lib/python3.8/site-packages (from ibm-cos-sdk->watson-machine-learning-client) (2.7.0)\n",
      "Requirement already satisfied: docutils<0.16,>=0.10 in /opt/conda/envs/Python-3.8-main/lib/python3.8/site-packages (from ibm-cos-sdk-core==2.7.0->ibm-cos-sdk->watson-machine-learning-client) (0.15.2)\n",
      "Requirement already satisfied: chardet<5,>=3.0.2 in /opt/conda/envs/Python-3.8-main/lib/python3.8/site-packages (from requests->watson-machine-learning-client) (3.0.4)\n",
      "Requirement already satisfied: idna<3,>=2.5 in /opt/conda/envs/Python-3.8-main/lib/python3.8/site-packages (from requests->watson-machine-learning-client) (2.8)\n",
      "Requirement already satisfied: pytz>=2017.3 in /opt/conda/envs/Python-3.8-main/lib/python3.8/site-packages (from pandas->watson-machine-learning-client) (2021.1)\n",
      "Requirement already satisfied: numpy>=1.16.5 in /opt/conda/envs/Python-3.8-main/lib/python3.8/site-packages (from pandas->watson-machine-learning-client) (1.19.2)\n",
      "Installing collected packages: watson-machine-learning-client\n",
      "Successfully installed watson-machine-learning-client-1.0.391\n"
     ]
    }
   ],
   "source": [
    "!pip install watson-machine-learning-client --upgrade"
   ]
  },
  {
   "cell_type": "code",
   "execution_count": 38,
   "id": "atlantic-course",
   "metadata": {},
   "outputs": [],
   "source": [
    "from ibm_watson_machine_learning import APIClient\n",
    "wml_credentials={\n",
    "                  \"url\":\"https://us-south.ml.cloud.ibm.com\",\n",
    "                  \"apikey\":\"C2p5ZNy2IeiwKkWQkCav1moEq0XiT6oaz0txuVAoq2QP\"\n",
    "}\n",
    "client =APIClient(wml_credentials)"
   ]
  },
  {
   "cell_type": "code",
   "execution_count": 39,
   "id": "friendly-expense",
   "metadata": {},
   "outputs": [],
   "source": [
    "client=APIClient(wml_credentials)"
   ]
  },
  {
   "cell_type": "code",
   "execution_count": 40,
   "id": "enormous-string",
   "metadata": {},
   "outputs": [],
   "source": [
    "def guid_from_space_name(client,space_name):\n",
    "    space =client.spaces.get_details()\n",
    "    return(next(item for item in space['resources'] if item['entity'][\"name\"]==space_name)['metadata']['id'])"
   ]
  },
  {
   "cell_type": "code",
   "execution_count": 41,
   "id": "accompanied-brazil",
   "metadata": {},
   "outputs": [
    {
     "name": "stdout",
     "output_type": "stream",
     "text": [
      "Space UID =d473e596-fe8f-4d7d-9898-76726c258a8a\n"
     ]
    }
   ],
   "source": [
    "space_uid=guid_from_space_name(client,'recipe-recognition')\n",
    "print(\"Space UID =\"+space_uid)"
   ]
  },
  {
   "cell_type": "code",
   "execution_count": 42,
   "id": "lightweight-tiffany",
   "metadata": {},
   "outputs": [
    {
     "data": {
      "text/plain": [
       "'SUCCESS'"
      ]
     },
     "execution_count": 42,
     "metadata": {},
     "output_type": "execute_result"
    }
   ],
   "source": [
    "client.set.default_space(space_uid)"
   ]
  },
  {
   "cell_type": "code",
   "execution_count": 43,
   "id": "traditional-johns",
   "metadata": {},
   "outputs": [
    {
     "name": "stdout",
     "output_type": "stream",
     "text": [
      "-----------------------------  ------------------------------------  ----\n",
      "NAME                           ASSET_ID                              TYPE\n",
      "default_py3.6                  0062b8c9-8b7d-44a0-a9b9-46c416adcbd9  base\n",
      "pytorch-onnx_1.3-py3.7-edt     069ea134-3346-5748-b513-49120e15d288  base\n",
      "scikit-learn_0.20-py3.6        09c5a1d0-9c1e-4473-a344-eb7b665ff687  base\n",
      "spark-mllib_3.0-scala_2.12     09f4cff0-90a7-5899-b9ed-1ef348aebdee  base\n",
      "ai-function_0.1-py3.6          0cdb0f1e-5376-4f4d-92dd-da3b69aa9bda  base\n",
      "shiny-r3.6                     0e6e79df-875e-4f24-8ae9-62dcc2148306  base\n",
      "tensorflow_2.4-py3.7-horovod   1092590a-307d-563d-9b62-4eb7d64b3f22  base\n",
      "pytorch_1.1-py3.6              10ac12d6-6b30-4ccd-8392-3e922c096a92  base\n",
      "tensorflow_1.15-py3.6-ddl      111e41b3-de2d-5422-a4d6-bf776828c4b7  base\n",
      "scikit-learn_0.22-py3.6        154010fa-5b3b-4ac1-82af-4d5ee5abbc85  base\n",
      "default_r3.6                   1b70aec3-ab34-4b87-8aa0-a4a3c8296a36  base\n",
      "pytorch-onnx_1.3-py3.6         1bc6029a-cc97-56da-b8e0-39c3880dbbe7  base\n",
      "tensorflow_2.1-py3.6           1eb25b84-d6ed-5dde-b6a5-3fbdf1665666  base\n",
      "tensorflow_2.4-py3.8-horovod   217c16f6-178f-56bf-824a-b19f20564c49  base\n",
      "do_py3.8                       295addb5-9ef9-547e-9bf4-92ae3563e720  base\n",
      "autoai-ts_3.8-py3.8            2aa0c932-798f-5ae9-abd6-15e0c2402fb5  base\n",
      "tensorflow_1.15-py3.6          2b73a275-7cbf-420b-a912-eae7f436e0bc  base\n",
      "pytorch_1.2-py3.6              2c8ef57d-2687-4b7d-acce-01f94976dac1  base\n",
      "spark-mllib_2.3                2e51f700-bca0-4b0d-88dc-5c6791338875  base\n",
      "pytorch-onnx_1.1-py3.6-edt     32983cea-3f32-4400-8965-dde874a8d67e  base\n",
      "spark-mllib_3.0-py37           36507ebe-8770-55ba-ab2a-eafe787600e9  base\n",
      "spark-mllib_2.4                390d21f8-e58b-4fac-9c55-d7ceda621326  base\n",
      "xgboost_0.82-py3.6             39e31acd-5f30-41dc-ae44-60233c80306e  base\n",
      "pytorch-onnx_1.2-py3.6-edt     40589d0e-7019-4e28-8daa-fb03b6f4fe12  base\n",
      "default_r36py38                41c247d3-45f8-5a71-b065-8580229facf0  base\n",
      "autoai-obm_3.0                 42b92e18-d9ab-567f-988a-4240ba1ed5f7  base\n",
      "spark-mllib_2.4-r_3.6          49403dff-92e9-4c87-a3d7-a42d0021c095  base\n",
      "xgboost_0.90-py3.6             4ff8d6c2-1343-4c18-85e1-689c965304d3  base\n",
      "pytorch-onnx_1.1-py3.6         50f95b2a-bc16-43bb-bc94-b0bed208c60b  base\n",
      "autoai-ts_3.9-py3.8            52c57136-80fa-572e-8728-a5e7cbb42cde  base\n",
      "spark-mllib_2.4-scala_2.11     55a70f99-7320-4be5-9fb9-9edb5a443af5  base\n",
      "spark-mllib_3.0                5c1b0ca2-4977-5c2e-9439-ffd44ea8ffe9  base\n",
      "autoai-obm_2.0                 5c2e37fa-80b8-5e77-840f-d912469614ee  base\n",
      "spss-modeler_18.1              5c3cad7e-507f-4b2a-a9a3-ab53a21dee8b  base\n",
      "cuda-py3.8                     5d3232bf-c86b-5df4-a2cd-7bb870a1cd4e  base\n",
      "autoai-kb_3.1-py3.7            632d4b22-10aa-5180-88f0-f52dfb6444d7  base\n",
      "pytorch-onnx_1.7-py3.8         634d3cdc-b562-5bf9-a2d4-ea90a478456b  base\n",
      "spark-mllib_2.3-r_3.6          6586b9e3-ccd6-4f92-900f-0f8cb2bd6f0c  base\n",
      "tensorflow_2.4-py3.7           65e171d7-72d1-55d9-8ebb-f813d620c9bb  base\n",
      "spss-modeler_18.2              687eddc9-028a-4117-b9dd-e57b36f1efa5  base\n",
      "pytorch-onnx_1.2-py3.6         692a6a4d-2c4d-45ff-a1ed-b167ee55469a  base\n",
      "do_12.9                        75a3a4b0-6aa0-41b3-a618-48b1f56332a6  base\n",
      "spark-mllib_2.3-scala_2.11     7963efe5-bbec-417e-92cf-0574e21b4e8d  base\n",
      "spark-mllib_2.4-py37           7abc992b-b685-532b-a122-a396a3cdbaab  base\n",
      "caffe_1.0-py3.6                7bb3dbe2-da6e-4145-918d-b6d84aa93b6b  base\n",
      "pytorch-onnx_1.7-py3.7         812c6631-42b7-5613-982b-02098e6c909c  base\n",
      "cuda-py3.6                     82c79ece-4d12-40e6-8787-a7b9e0f62770  base\n",
      "tensorflow_1.15-py3.6-horovod  8964680e-d5e4-5bb8-919b-8342c6c0dfd8  base\n",
      "hybrid_0.1                     8c1a58c6-62b5-4dc4-987a-df751c2756b6  base\n",
      "pytorch-onnx_1.3-py3.7         8d5d8a87-a912-54cf-81ec-3914adaa988d  base\n",
      "-----------------------------  ------------------------------------  ----\n",
      "Note: Only first 50 records were displayed. To display more use 'limit' parameter.\n"
     ]
    }
   ],
   "source": [
    "client.software_specifications.list()"
   ]
  },
  {
   "cell_type": "code",
   "execution_count": 44,
   "id": "excellent-supplement",
   "metadata": {},
   "outputs": [
    {
     "data": {
      "text/plain": [
       "'65e171d7-72d1-55d9-8ebb-f813d620c9bb'"
      ]
     },
     "execution_count": 44,
     "metadata": {},
     "output_type": "execute_result"
    }
   ],
   "source": [
    "software_spec_uid=client.software_specifications.get_uid_by_name(\"tensorflow_2.4-py3.7\")\n",
    "software_spec_uid"
   ]
  },
  {
   "cell_type": "code",
   "execution_count": 45,
   "id": "spare-minimum",
   "metadata": {},
   "outputs": [
    {
     "name": "stdout",
     "output_type": "stream",
     "text": [
      "Note: Warnings!! :  Model type keras_2.2.4 is deprecated. We recommend you use a supported model type. See Supported Frameworks https://dataplatform.cloud.ibm.com/docs/content/wsj/analyze-data/pm_service_supported_frameworks.html\n"
     ]
    }
   ],
   "source": [
    "model_details=client.repository.store_model(model='recipe-recognition-model.tgz',meta_props={\n",
    "    client.repository.ModelMetaNames.NAME:\"CNN\",\n",
    "    client.repository.ModelMetaNames.TYPE:\"keras_2.2.4\",\n",
    "    client.repository.ModelMetaNames.SOFTWARE_SPEC_UID:software_spec_uid\n",
    "})\n",
    "model_id=client.repository.get_model_uid(model_details)"
   ]
  },
  {
   "cell_type": "code",
   "execution_count": 46,
   "id": "indirect-improvement",
   "metadata": {},
   "outputs": [
    {
     "data": {
      "text/plain": [
       "'80096af2-31a2-43ed-893d-b9f0b2df75bb'"
      ]
     },
     "execution_count": 46,
     "metadata": {},
     "output_type": "execute_result"
    }
   ],
   "source": [
    "model_id"
   ]
  },
  {
   "cell_type": "code",
   "execution_count": 48,
   "id": "fifth-income",
   "metadata": {},
   "outputs": [
    {
     "name": "stdout",
     "output_type": "stream",
     "text": [
      "Successfully saved model content to file: 'RR-model.tar.gz'\n"
     ]
    },
    {
     "data": {
      "text/plain": [
       "'/home/wsuser/work/RR-model.tar.gz'"
      ]
     },
     "execution_count": 48,
     "metadata": {},
     "output_type": "execute_result"
    }
   ],
   "source": [
    "client.repository.download(model_id,'RR-model.tar.gz')"
   ]
  },
  {
   "cell_type": "code",
   "execution_count": 49,
   "id": "b75f3ec8",
   "metadata": {},
   "outputs": [],
   "source": [
    "from tensorflow.keras.models import load_model\n",
    "from keras.preprocessing import image\n",
    "model=load_model(\"Model.h5\")"
   ]
  },
  {
   "cell_type": "code",
   "execution_count": 50,
   "id": "jewish-farmer",
   "metadata": {},
   "outputs": [
    {
     "name": "stdout",
     "output_type": "stream",
     "text": [
      "Found existing installation: Pillow 9.0.0\n",
      "Uninstalling Pillow-9.0.0:\n",
      "  Successfully uninstalled Pillow-9.0.0\n"
     ]
    }
   ],
   "source": [
    "!pip uninstall pillow -y"
   ]
  },
  {
   "cell_type": "code",
   "execution_count": 51,
   "id": "hydraulic-river",
   "metadata": {},
   "outputs": [
    {
     "name": "stdout",
     "output_type": "stream",
     "text": [
      "Collecting pillow\n",
      "  Using cached Pillow-9.0.0-cp38-cp38-manylinux_2_17_x86_64.manylinux2014_x86_64.whl (4.3 MB)\n",
      "Installing collected packages: pillow\n",
      "Successfully installed pillow-9.0.0\n"
     ]
    }
   ],
   "source": [
    "!pip install pillow"
   ]
  },
  {
   "cell_type": "code",
   "execution_count": 54,
   "id": "adaptive-beads",
   "metadata": {},
   "outputs": [],
   "source": [
    "import PIL\n",
    "from keras.preprocessing.image import load_img\n",
    "from keras.preprocessing.image import img_to_array\n",
    "from keras.preprocessing.image import array_to_img"
   ]
  },
  {
   "cell_type": "code",
   "execution_count": 56,
   "id": "conscious-intermediate",
   "metadata": {},
   "outputs": [],
   "source": [
    "\n",
    "streaming_body_4 = client_9850a50ebeed4c27a806eecbd24caac9.get_object(Bucket='reciperecognitionproject-donotdelete-pr-53tbbsf5qgh4br', Key='pizza1.jpg')['Body']\n",
    "\n",
    "# Your data file was loaded into a botocore.response.StreamingBody object.\n",
    "# Please read the documentation of ibm_boto3 and pandas to learn more about the possibilities to load the data.\n",
    "# ibm_boto3 documentation: https://ibm.github.io/ibm-cos-sdk-python/\n",
    "# pandas documentation: http://pandas.pydata.org/\n"
   ]
  },
  {
   "cell_type": "code",
   "execution_count": 61,
   "id": "disabled-grammar",
   "metadata": {},
   "outputs": [],
   "source": [
    "from PIL import Image"
   ]
  },
  {
   "cell_type": "code",
   "execution_count": 63,
   "id": "convinced-reserve",
   "metadata": {},
   "outputs": [],
   "source": [
    "img=Image.open(streaming_body_4)"
   ]
  },
  {
   "cell_type": "code",
   "execution_count": 65,
   "id": "9d567c61",
   "metadata": {},
   "outputs": [
    {
     "data": {
      "text/plain": [
       "array([[0., 1., 0.]], dtype=float32)"
      ]
     },
     "execution_count": 65,
     "metadata": {},
     "output_type": "execute_result"
    }
   ],
   "source": [
    "img=img.resize((64,64))\n",
    "x = image.img_to_array(img)\n",
    "x = np.expand_dims(x,axis = 0)\n",
    "pred = model.predict(x)\n",
    "pred"
   ]
  },
  {
   "cell_type": "code",
   "execution_count": 66,
   "id": "68f0d5cf",
   "metadata": {},
   "outputs": [
    {
     "data": {
      "text/plain": [
       "array([1])"
      ]
     },
     "execution_count": 66,
     "metadata": {},
     "output_type": "execute_result"
    }
   ],
   "source": [
    "index=['french_fries', 'pizza', 'samosa']\n",
    "result=np.argmax(pred,axis=1)\n",
    "result"
   ]
  },
  {
   "cell_type": "code",
   "execution_count": 67,
   "id": "86cf90d6",
   "metadata": {},
   "outputs": [
    {
     "data": {
      "text/plain": [
       "'pizza'"
      ]
     },
     "execution_count": 67,
     "metadata": {},
     "output_type": "execute_result"
    }
   ],
   "source": [
    "result=index[result[0]]\n",
    "result"
   ]
  },
  {
   "cell_type": "code",
   "execution_count": 69,
   "id": "289e1dd0",
   "metadata": {},
   "outputs": [],
   "source": [
    "\n",
    "streaming_body_5 = client_9850a50ebeed4c27a806eecbd24caac9.get_object(Bucket='reciperecognitionproject-donotdelete-pr-53tbbsf5qgh4br', Key='FF.jpg')['Body']\n",
    "\n",
    "# Your data file was loaded into a botocore.response.StreamingBody object.\n",
    "# Please read the documentation of ibm_boto3 and pandas to learn more about the possibilities to load the data.\n",
    "# ibm_boto3 documentation: https://ibm.github.io/ibm-cos-sdk-python/\n",
    "# pandas documentation: http://pandas.pydata.org/\n"
   ]
  },
  {
   "cell_type": "code",
   "execution_count": 70,
   "id": "b259334e",
   "metadata": {},
   "outputs": [
    {
     "data": {
      "text/plain": [
       "array([[1., 0., 0.]], dtype=float32)"
      ]
     },
     "execution_count": 70,
     "metadata": {},
     "output_type": "execute_result"
    }
   ],
   "source": [
    "img=Image.open(streaming_body_5)\n",
    "img=img.resize((64,64))\n",
    "x = image.img_to_array(img)\n",
    "x = np.expand_dims(x,axis = 0)\n",
    "pred = model.predict(x)\n",
    "pred"
   ]
  },
  {
   "cell_type": "code",
   "execution_count": 71,
   "id": "exempt-greece",
   "metadata": {},
   "outputs": [
    {
     "data": {
      "text/plain": [
       "array([0])"
      ]
     },
     "execution_count": 71,
     "metadata": {},
     "output_type": "execute_result"
    }
   ],
   "source": [
    "index=['french_fries', 'pizza', 'samosa']\n",
    "result=np.argmax(pred,axis=1)\n",
    "result"
   ]
  },
  {
   "cell_type": "code",
   "execution_count": 72,
   "id": "blessed-clause",
   "metadata": {},
   "outputs": [
    {
     "data": {
      "text/plain": [
       "'french_fries'"
      ]
     },
     "execution_count": 72,
     "metadata": {},
     "output_type": "execute_result"
    }
   ],
   "source": [
    "result=index[result[0]]\n",
    "result"
   ]
  },
  {
   "cell_type": "code",
   "execution_count": 73,
   "id": "engaging-malaysia",
   "metadata": {},
   "outputs": [],
   "source": [
    "\n",
    "streaming_body_6 = client_9850a50ebeed4c27a806eecbd24caac9.get_object(Bucket='reciperecognitionproject-donotdelete-pr-53tbbsf5qgh4br', Key='1976.jpg')['Body']\n",
    "\n",
    "# Your data file was loaded into a botocore.response.StreamingBody object.\n",
    "# Please read the documentation of ibm_boto3 and pandas to learn more about the possibilities to load the data.\n",
    "# ibm_boto3 documentation: https://ibm.github.io/ibm-cos-sdk-python/\n",
    "# pandas documentation: http://pandas.pydata.org/\n"
   ]
  },
  {
   "cell_type": "code",
   "execution_count": 74,
   "id": "sudden-tractor",
   "metadata": {},
   "outputs": [
    {
     "data": {
      "text/plain": [
       "array([[0., 0., 1.]], dtype=float32)"
      ]
     },
     "execution_count": 74,
     "metadata": {},
     "output_type": "execute_result"
    }
   ],
   "source": [
    "img=Image.open(streaming_body_6)\n",
    "img=img.resize((64,64))\n",
    "x = image.img_to_array(img)\n",
    "x = np.expand_dims(x,axis = 0)\n",
    "pred = model.predict(x)\n",
    "pred"
   ]
  },
  {
   "cell_type": "code",
   "execution_count": 75,
   "id": "black-anatomy",
   "metadata": {},
   "outputs": [
    {
     "data": {
      "text/plain": [
       "array([2])"
      ]
     },
     "execution_count": 75,
     "metadata": {},
     "output_type": "execute_result"
    }
   ],
   "source": [
    "index=['french_fries', 'pizza', 'samosa']\n",
    "result=np.argmax(pred,axis=1)\n",
    "result"
   ]
  },
  {
   "cell_type": "code",
   "execution_count": 76,
   "id": "funky-prince",
   "metadata": {},
   "outputs": [
    {
     "data": {
      "text/plain": [
       "'samosa'"
      ]
     },
     "execution_count": 76,
     "metadata": {},
     "output_type": "execute_result"
    }
   ],
   "source": [
    "result=index[result[0]]\n",
    "result"
   ]
  },
  {
   "cell_type": "code",
   "execution_count": null,
   "id": "compliant-causing",
   "metadata": {},
   "outputs": [],
   "source": []
  }
 ],
 "metadata": {
  "kernelspec": {
   "display_name": "Python 3.8",
   "language": "python",
   "name": "python3"
  },
  "language_info": {
   "codemirror_mode": {
    "name": "ipython",
    "version": 3
   },
   "file_extension": ".py",
   "mimetype": "text/x-python",
   "name": "python",
   "nbconvert_exporter": "python",
   "pygments_lexer": "ipython3",
   "version": "3.8.12"
  }
 },
 "nbformat": 4,
 "nbformat_minor": 5
}
